{
 "cells": [
  {
   "cell_type": "code",
   "execution_count": 4,
   "id": "f4ca3264-b1fc-420c-b9b5-d2841fe89d56",
   "metadata": {},
   "outputs": [],
   "source": [
    "import os\n",
    "from datetime import datetime"
   ]
  },
  {
   "cell_type": "code",
   "execution_count": 40,
   "id": "baa04e6f-f7d2-494c-9641-f00af2eb01a0",
   "metadata": {},
   "outputs": [],
   "source": [
    "vietnamese_path = \"..\\\\Prison-Break-ss5\\\\prison-break-sequel-first-season-2017_vietnamese-2120801\"\n",
    "english_path = \"..\\\\Prison-Break-ss5\\\\prison-break-sequel-first-season-2017_english-1570529\""
   ]
  },
  {
   "cell_type": "code",
   "execution_count": 41,
   "id": "d59da91b-98f4-4fa9-aadc-4cea8abf3b93",
   "metadata": {},
   "outputs": [
    {
     "data": {
      "text/plain": [
       "['..\\\\Prison-Break-ss5\\\\prison-break-sequel-first-season-2017_vietnamese-2120801\\\\prison.break.s05e01.1080p.bluray.x264-rovers.srt',\n",
       " '..\\\\Prison-Break-ss5\\\\prison-break-sequel-first-season-2017_vietnamese-2120801\\\\prison.break.s05e02.1080p.bluray.x264-rovers.srt',\n",
       " '..\\\\Prison-Break-ss5\\\\prison-break-sequel-first-season-2017_vietnamese-2120801\\\\prison.break.s05e03.1080p.bluray.x264-rovers.srt',\n",
       " '..\\\\Prison-Break-ss5\\\\prison-break-sequel-first-season-2017_vietnamese-2120801\\\\prison.break.s05e04.1080p.bluray.x264-rovers.srt',\n",
       " '..\\\\Prison-Break-ss5\\\\prison-break-sequel-first-season-2017_vietnamese-2120801\\\\prison.break.s05e05.1080p.bluray.x264-rovers.srt',\n",
       " '..\\\\Prison-Break-ss5\\\\prison-break-sequel-first-season-2017_vietnamese-2120801\\\\prison.break.s05e06.1080p.bluray.x264-rovers.srt',\n",
       " '..\\\\Prison-Break-ss5\\\\prison-break-sequel-first-season-2017_vietnamese-2120801\\\\prison.break.s05e07.1080p.bluray.x264-rovers.srt',\n",
       " '..\\\\Prison-Break-ss5\\\\prison-break-sequel-first-season-2017_vietnamese-2120801\\\\prison.break.s05e08.1080p.bluray.x264-rovers.srt',\n",
       " '..\\\\Prison-Break-ss5\\\\prison-break-sequel-first-season-2017_vietnamese-2120801\\\\prison.break.s05e09.1080p.bluray.x264-rovers.srt']"
      ]
     },
     "execution_count": 41,
     "metadata": {},
     "output_type": "execute_result"
    }
   ],
   "source": [
    "vietnamese_list = []\n",
    "for root, dirs, filenames in os.walk(vietnamese_path):\n",
    "    if filenames == []:\n",
    "        continue\n",
    "    for filename in filenames:\n",
    "        vietnamese_list.append(os.path.join(vietnamese_path, filename))\n",
    "vietnamese_list"
   ]
  },
  {
   "cell_type": "code",
   "execution_count": 42,
   "id": "419eac73-327d-40f8-8696-708a314b5898",
   "metadata": {},
   "outputs": [
    {
     "data": {
      "text/plain": [
       "['..\\\\Prison-Break-ss5\\\\prison-break-sequel-first-season-2017_english-1570529\\\\Prison Break S05E01 REPACK HDTV.srt',\n",
       " '..\\\\Prison-Break-ss5\\\\prison-break-sequel-first-season-2017_english-1570529\\\\Prison.Break.S05E02.HDTV.srt',\n",
       " '..\\\\Prison-Break-ss5\\\\prison-break-sequel-first-season-2017_english-1570529\\\\Prison.Break.S05E03.HDTV.srt',\n",
       " '..\\\\Prison-Break-ss5\\\\prison-break-sequel-first-season-2017_english-1570529\\\\Prison.Break.S05E04.HDTV.srt',\n",
       " '..\\\\Prison-Break-ss5\\\\prison-break-sequel-first-season-2017_english-1570529\\\\Prison.Break.S05E05.HDTV.srt',\n",
       " '..\\\\Prison-Break-ss5\\\\prison-break-sequel-first-season-2017_english-1570529\\\\Prison.Break.S05E06.HDTV.srt',\n",
       " '..\\\\Prison-Break-ss5\\\\prison-break-sequel-first-season-2017_english-1570529\\\\Prison.Break.S05E07.HDTV.srt',\n",
       " '..\\\\Prison-Break-ss5\\\\prison-break-sequel-first-season-2017_english-1570529\\\\Prison.Break.S05E08.HDTV.srt',\n",
       " '..\\\\Prison-Break-ss5\\\\prison-break-sequel-first-season-2017_english-1570529\\\\Prison.Break.S05E09.HDTV.srt']"
      ]
     },
     "execution_count": 42,
     "metadata": {},
     "output_type": "execute_result"
    }
   ],
   "source": [
    "english_list = []\n",
    "for root, dirs, filenames in os.walk(english_path):\n",
    "    if filenames == []:\n",
    "        continue\n",
    "    for filename in filenames:\n",
    "        english_list.append(os.path.join(english_path, filename))\n",
    "english_list"
   ]
  },
  {
   "cell_type": "code",
   "execution_count": 43,
   "id": "069fe023-31d7-4fd9-a9a0-03830c566e0f",
   "metadata": {},
   "outputs": [
    {
     "data": {
      "text/plain": [
       "True"
      ]
     },
     "execution_count": 43,
     "metadata": {},
     "output_type": "execute_result"
    }
   ],
   "source": [
    "len(vietnamese_list) == len(english_list)"
   ]
  },
  {
   "cell_type": "code",
   "execution_count": 44,
   "id": "f75dcbfb-aa1e-441b-bfbb-dfbddfe33328",
   "metadata": {},
   "outputs": [],
   "source": [
    "def split_list(sub_list, chunk_size=3):\n",
    "    chunks = []\n",
    "    chunk = []\n",
    "    for elem in sub_list:\n",
    "        if elem != \"\\n\":\n",
    "            chunk.append(elem)\n",
    "        else:\n",
    "            chunks.append(chunk)\n",
    "            chunk = []\n",
    "    return chunks"
   ]
  },
  {
   "cell_type": "code",
   "execution_count": 45,
   "id": "a4076610-cac9-4bf4-88d4-5cb575212663",
   "metadata": {},
   "outputs": [],
   "source": [
    "def split_time(total_sub):\n",
    "    for i in range(len(total_sub)):\n",
    "        for ii in range(len(total_sub[i])):\n",
    "            if \"-->\" in total_sub[i][ii]:\n",
    "                temp = total_sub[i][ii].split(\" --> \")\n",
    "                temp.insert(1, \" --> \")\n",
    "                total_sub[i] = total_sub[i][:ii] + temp + total_sub[i][ii+1:]\n",
    "                break\n",
    "    return total_sub"
   ]
  },
  {
   "cell_type": "code",
   "execution_count": 46,
   "id": "60f802ac-fff1-4455-b606-4f48c3f16a2c",
   "metadata": {},
   "outputs": [],
   "source": [
    "def join_sub(vietnamese_sub, english_sub):\n",
    "    total_sub = english_sub + vietnamese_sub\n",
    "    total_sub = split_time(total_sub)\n",
    "    return total_sub"
   ]
  },
  {
   "cell_type": "code",
   "execution_count": 47,
   "id": "a7cdfac7-a9bd-40d2-b624-e38415d9447d",
   "metadata": {},
   "outputs": [],
   "source": [
    "def quick_sort(total_sub):\n",
    "    for i in range(len(total_sub)):\n",
    "        pass"
   ]
  },
  {
   "cell_type": "code",
   "execution_count": 48,
   "id": "65e789a8-b7fb-4c58-8fc0-6e0f092f73ad",
   "metadata": {},
   "outputs": [],
   "source": [
    "def bubble_sort_sub(total_sub):\n",
    "    n = len(total_sub)\n",
    "    for i in range(n):\n",
    "        for ii in range(n - i - 1):\n",
    "            # print(i, ii, n)\n",
    "            # print(total_sub[ii])\n",
    "            # print(total_sub[ii+1])\n",
    "            left_time = datetime.strptime(total_sub[ii][1], \"%H:%M:%S,%f\")\n",
    "            right_time = datetime.strptime(total_sub[ii+1][1], \"%H:%M:%S,%f\")\n",
    "            if left_time > right_time:\n",
    "                total_sub[ii], total_sub[ii+1] = total_sub[ii+1], total_sub[ii]\n",
    "    return total_sub"
   ]
  },
  {
   "cell_type": "code",
   "execution_count": 49,
   "id": "be696303-d09b-4258-827e-8916f5dd6b96",
   "metadata": {},
   "outputs": [],
   "source": [
    "def write_result(result, filename=\"test\"):\n",
    "    f = open(filename + \".srt\", \"w\", encoding='utf-8-sig')\n",
    "    for i in result:\n",
    "        for ii in i:\n",
    "            f.write(ii)\n",
    "        f.write(\"\\n\")\n",
    "    f.close()"
   ]
  },
  {
   "cell_type": "code",
   "execution_count": 50,
   "id": "bbc2d670-a2f5-4f7d-9dd2-72955dc8be99",
   "metadata": {},
   "outputs": [],
   "source": [
    "def reset_index(result):\n",
    "    for i in range(len(result)):\n",
    "        result[i][0] = str(i+1) + \"\\n\"\n",
    "    return result"
   ]
  },
  {
   "cell_type": "code",
   "execution_count": 51,
   "id": "9006cc1a-0942-41ba-8b0a-f0f1ae2793a1",
   "metadata": {},
   "outputs": [
    {
     "name": "stdout",
     "output_type": "stream",
     "text": [
      "0\n",
      "1\n",
      "2\n",
      "3\n",
      "4\n",
      "5\n",
      "6\n",
      "7\n",
      "8\n"
     ]
    }
   ],
   "source": [
    "for i in range(len(vietnamese_list)):\n",
    "    print(i)\n",
    "    try:\n",
    "        vietnamese_file = open(vietnamese_list[i], \"r\", encoding=\"utf16\")\n",
    "        vietnamese_sub = vietnamese_file.readlines()\n",
    "    except:\n",
    "        vietnamese_file = open(vietnamese_list[i], \"r\", encoding=\"utf8\")\n",
    "        vietnamese_sub = vietnamese_file.readlines()\n",
    "    english_file = open(english_list[i], \"r\")\n",
    "    english_sub = english_file.readlines()\n",
    "    vietnamese_sub = split_list(vietnamese_sub)\n",
    "    english_sub = split_list(english_sub)\n",
    "    total_sub = join_sub(vietnamese_sub, english_sub)\n",
    "    while [] in total_sub:\n",
    "        total_sub.remove([])\n",
    "    result = bubble_sort_sub(total_sub)\n",
    "    result = reset_index(result)\n",
    "    write_result(result, filename=\"Prison Break S04E\" + str(\"%02d\" %(i+1)))\n",
    "    vietnamese_file.close()\n",
    "    english_file.close()"
   ]
  },
  {
   "cell_type": "code",
   "execution_count": 179,
   "id": "0bd318b4-b973-4537-9127-ba02cb815f8e",
   "metadata": {},
   "outputs": [],
   "source": [
    "def bubble_sort(array):\n",
    "    n = len(array)\n",
    "\n",
    "    for i in range(n):\n",
    "        # Create a flag that will allow the function to\n",
    "        # terminate early if there's nothing left to sort\n",
    "        already_sorted = True\n",
    "\n",
    "        # Start looking at each item of the list one by one,\n",
    "        # comparing it with its adjacent value. With each\n",
    "        # iteration, the portion of the array that you look at\n",
    "        # shrinks because the remaining items have already been\n",
    "        # sorted.\n",
    "        for j in range(n - i - 1):\n",
    "            if array[j] > array[j + 1]:\n",
    "                # If the item you're looking at is greater than its\n",
    "                # adjacent value, then swap them\n",
    "                array[j], array[j + 1] = array[j + 1], array[j]\n",
    "\n",
    "                # Since you had to swap two elements,\n",
    "                # set the `already_sorted` flag to `False` so the\n",
    "                # algorithm doesn't finish prematurely\n",
    "                already_sorted = False\n",
    "\n",
    "        # If there were no swaps during the last iteration,\n",
    "        # the array is already sorted, and you can terminate\n",
    "        if already_sorted:\n",
    "            break\n",
    "\n",
    "    return array"
   ]
  },
  {
   "cell_type": "code",
   "execution_count": 180,
   "id": "20580ad7-500c-467c-a593-3b22c46f761e",
   "metadata": {},
   "outputs": [
    {
     "data": {
      "text/plain": [
       "[2, 4, 5, 8, 9]"
      ]
     },
     "execution_count": 180,
     "metadata": {},
     "output_type": "execute_result"
    }
   ],
   "source": [
    "bubble_sort([8, 2, 9, 4, 5])"
   ]
  },
  {
   "cell_type": "code",
   "execution_count": 171,
   "id": "999ab092-79c6-4a75-9d40-eb219c764059",
   "metadata": {},
   "outputs": [
    {
     "data": {
      "text/plain": [
       "datetime.datetime(1900, 1, 1, 0, 29, 34, 100000)"
      ]
     },
     "execution_count": 171,
     "metadata": {},
     "output_type": "execute_result"
    }
   ],
   "source": [
    "left = datetime.strptime(\"00:02:01,111\", \"%H:%M:%S,%f\")\n",
    "right = datetime.strptime('00:29:34,100', \"%H:%M:%S,%f\")\n",
    "right"
   ]
  },
  {
   "cell_type": "code",
   "execution_count": 197,
   "id": "fc211488-fea6-4aff-8d7f-78048948388c",
   "metadata": {},
   "outputs": [],
   "source": [
    "test = ['417\\n', ['00:29:34,100', ' --> '], '00:29:34,760\\n', []].remove([])\n",
    "test"
   ]
  },
  {
   "cell_type": "code",
   "execution_count": null,
   "id": "4756822e-a243-4ba8-9b4f-b87fd0e1b4f2",
   "metadata": {},
   "outputs": [],
   "source": []
  }
 ],
 "metadata": {
  "kernelspec": {
   "display_name": "Python 3 (ipykernel)",
   "language": "python",
   "name": "python3"
  },
  "language_info": {
   "codemirror_mode": {
    "name": "ipython",
    "version": 3
   },
   "file_extension": ".py",
   "mimetype": "text/x-python",
   "name": "python",
   "nbconvert_exporter": "python",
   "pygments_lexer": "ipython3",
   "version": "3.12.3"
  }
 },
 "nbformat": 4,
 "nbformat_minor": 5
}

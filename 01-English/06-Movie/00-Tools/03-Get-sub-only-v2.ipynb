{
 "cells": [
  {
   "cell_type": "code",
   "execution_count": 4,
   "id": "29eaa2be-7f10-4aca-a742-34d50d291ab1",
   "metadata": {},
   "outputs": [],
   "source": [
    "import os\n",
    "from datetime import datetime"
   ]
  },
  {
   "cell_type": "code",
   "execution_count": 5,
   "id": "ff83495d-d378-4fea-95b8-3b4dfa89c7c2",
   "metadata": {},
   "outputs": [],
   "source": [
    "folderpath = \"..//04-Friends//01-First-Season//Friends - First Season - English - friends--first-season_HI_english-1781782//\""
   ]
  },
  {
   "cell_type": "code",
   "execution_count": 6,
   "id": "7bbf1982-972a-4f51-8951-aa14e8ff8f77",
   "metadata": {},
   "outputs": [
    {
     "data": {
      "text/plain": [
       "{'friends.s01e13.720p.bluray.x264--sujaidr.srt': '..//04-Friends//01-First-Season//Friends - First Season - English - friends--first-season_HI_english-1781782//friends.s01e13.720p.bluray.x264--sujaidr.srt',\n",
       " 'friends.s01e02.720p.bluray.x264--sujaidr.srt': '..//04-Friends//01-First-Season//Friends - First Season - English - friends--first-season_HI_english-1781782//friends.s01e02.720p.bluray.x264--sujaidr.srt',\n",
       " 'friends.s01e03.720p.bluray.x264--sujaidr.srt': '..//04-Friends//01-First-Season//Friends - First Season - English - friends--first-season_HI_english-1781782//friends.s01e03.720p.bluray.x264--sujaidr.srt',\n",
       " 'friends.s01e04.720p.bluray.x264--sujaidr.srt': '..//04-Friends//01-First-Season//Friends - First Season - English - friends--first-season_HI_english-1781782//friends.s01e04.720p.bluray.x264--sujaidr.srt',\n",
       " 'friends.s01e05.720p.bluray.x264--sujaidr.srt': '..//04-Friends//01-First-Season//Friends - First Season - English - friends--first-season_HI_english-1781782//friends.s01e05.720p.bluray.x264--sujaidr.srt',\n",
       " 'friends.s01e06.720p.bluray.x264--sujaidr.srt': '..//04-Friends//01-First-Season//Friends - First Season - English - friends--first-season_HI_english-1781782//friends.s01e06.720p.bluray.x264--sujaidr.srt',\n",
       " 'friends.s01e07.720p.bluray.x264--sujaidr.srt': '..//04-Friends//01-First-Season//Friends - First Season - English - friends--first-season_HI_english-1781782//friends.s01e07.720p.bluray.x264--sujaidr.srt',\n",
       " 'friends.s01e08.720p.bluray.x264--sujaidr.srt': '..//04-Friends//01-First-Season//Friends - First Season - English - friends--first-season_HI_english-1781782//friends.s01e08.720p.bluray.x264--sujaidr.srt',\n",
       " 'friends.s01e09.720p.bluray.x264--sujaidr.srt': '..//04-Friends//01-First-Season//Friends - First Season - English - friends--first-season_HI_english-1781782//friends.s01e09.720p.bluray.x264--sujaidr.srt',\n",
       " 'friends.s01e10.720p.bluray.x264-sujaidr.srt': '..//04-Friends//01-First-Season//Friends - First Season - English - friends--first-season_HI_english-1781782//friends.s01e10.720p.bluray.x264-sujaidr.srt',\n",
       " 'friends.s01e11.720p.bluray.x264--sujaidr.srt': '..//04-Friends//01-First-Season//Friends - First Season - English - friends--first-season_HI_english-1781782//friends.s01e11.720p.bluray.x264--sujaidr.srt',\n",
       " 'friends.s01e12.720p.bluray.x264--sujaidr.srt': '..//04-Friends//01-First-Season//Friends - First Season - English - friends--first-season_HI_english-1781782//friends.s01e12.720p.bluray.x264--sujaidr.srt',\n",
       " 'friends.s01e14.720p.bluray.x264--sujaidr.srt': '..//04-Friends//01-First-Season//Friends - First Season - English - friends--first-season_HI_english-1781782//friends.s01e14.720p.bluray.x264--sujaidr.srt',\n",
       " 'friends.s01e15.720p.bluray.x264--sujaidr.srt': '..//04-Friends//01-First-Season//Friends - First Season - English - friends--first-season_HI_english-1781782//friends.s01e15.720p.bluray.x264--sujaidr.srt',\n",
       " 'friends.s01e16.720p.bluray.x264--sujaidr.srt': '..//04-Friends//01-First-Season//Friends - First Season - English - friends--first-season_HI_english-1781782//friends.s01e16.720p.bluray.x264--sujaidr.srt',\n",
       " 'friends.s01e17.720p.bluray.x264--sujaidr.srt': '..//04-Friends//01-First-Season//Friends - First Season - English - friends--first-season_HI_english-1781782//friends.s01e17.720p.bluray.x264--sujaidr.srt',\n",
       " 'friends.s01e18.720p.bluray.x264--sujaidr.srt': '..//04-Friends//01-First-Season//Friends - First Season - English - friends--first-season_HI_english-1781782//friends.s01e18.720p.bluray.x264--sujaidr.srt',\n",
       " 'friends.s01e19.720p.bluray.x264--sujaidr.srt': '..//04-Friends//01-First-Season//Friends - First Season - English - friends--first-season_HI_english-1781782//friends.s01e19.720p.bluray.x264--sujaidr.srt',\n",
       " 'friends.s01e20.720p.bluray.x264--sujaidr.srt': '..//04-Friends//01-First-Season//Friends - First Season - English - friends--first-season_HI_english-1781782//friends.s01e20.720p.bluray.x264--sujaidr.srt',\n",
       " 'friends.s01e21.720p.bluray.x264--sujaidr.srt': '..//04-Friends//01-First-Season//Friends - First Season - English - friends--first-season_HI_english-1781782//friends.s01e21.720p.bluray.x264--sujaidr.srt',\n",
       " 'friends.s01e22.720p.bluray.x264--sujaidr.srt': '..//04-Friends//01-First-Season//Friends - First Season - English - friends--first-season_HI_english-1781782//friends.s01e22.720p.bluray.x264--sujaidr.srt',\n",
       " 'friends.s01e23.720p.bluray.x264--sujaidr.srt': '..//04-Friends//01-First-Season//Friends - First Season - English - friends--first-season_HI_english-1781782//friends.s01e23.720p.bluray.x264--sujaidr.srt',\n",
       " 'friends.s01e24.720p.bluray.x264--sujaidr.srt': '..//04-Friends//01-First-Season//Friends - First Season - English - friends--first-season_HI_english-1781782//friends.s01e24.720p.bluray.x264--sujaidr.srt',\n",
       " 'friends_s01e01_720p_bluray_x264-sujaidr.srt': '..//04-Friends//01-First-Season//Friends - First Season - English - friends--first-season_HI_english-1781782//friends_s01e01_720p_bluray_x264-sujaidr.srt'}"
      ]
     },
     "execution_count": 6,
     "metadata": {},
     "output_type": "execute_result"
    }
   ],
   "source": [
    "filepath_dict = {}\n",
    "for dirpath, dirnames, filenames in os.walk(folderpath):\n",
    "    if filenames != {}:\n",
    "        for filename in filenames:\n",
    "            filepath_dict[filename] = folderpath + filename\n",
    "filepath_dict"
   ]
  },
  {
   "cell_type": "code",
   "execution_count": 7,
   "id": "1cc1b364-4d79-4749-bfea-a2133b93f353",
   "metadata": {
    "scrolled": true
   },
   "outputs": [],
   "source": [
    "def read_data(filepath: str) -> list:\n",
    "    datafile = open(filepath, \"r\", encoding=\"utf8\")\n",
    "    data = datafile.readlines()\n",
    "    return data\n",
    "# data"
   ]
  },
  {
   "cell_type": "code",
   "execution_count": 28,
   "id": "fdee4d48-c33d-44de-8009-05345eaff3e2",
   "metadata": {
    "scrolled": true
   },
   "outputs": [],
   "source": [
    "def get_sub(data: str) -> list:\n",
    "    index = 0\n",
    "    i = 0\n",
    "    start_index = 0\n",
    "    end_index = 0\n",
    "    clean_data = []\n",
    "    for i in range(len(data)):\n",
    "        if data[i].replace(\"\\n\", \"\").isnumeric():\n",
    "            # print(data[i])\n",
    "            start_index = i\n",
    "        else:\n",
    "            continue\n",
    "    \n",
    "        for j in range(i, len(data)):\n",
    "            if data[j] == \"\\n\":\n",
    "                end_index = j\n",
    "                break\n",
    "    \n",
    "        clean_line = \"\"\n",
    "        for k in range(start_index+2, end_index):\n",
    "            clean_line += \" \" + data[k]\n",
    "        if \"\\n\" in clean_line:\n",
    "                clean_line = clean_line.replace(\"\\n\", \"\")\n",
    "        if \"<i>\" in clean_line:\n",
    "            clean_line = clean_line.replace(\"<i>\", \"\")\n",
    "        if \"</i>\" in clean_line:\n",
    "            clean_line = clean_line.replace(\"</i>\", \"\")\n",
    "        if \"{\\\\an8}\" in clean_line:\n",
    "            clean_line = clean_line.replace(\"{\\\\an8}\", \"\")\n",
    "        if \"&\" in clean_line:\n",
    "            clean_line = clean_line.replace(\"&\", \"\\\\&\")\n",
    "        if \"$\" in clean_line:\n",
    "            clean_line = clean_line.replace(\"$\", \"\\\\$\")\n",
    "        if \"#\" in clean_line:\n",
    "            clean_line = clean_line.replace(\"#\", \"\\\\#\")\n",
    "        clean_data.append(clean_line)\n",
    "    return clean_data"
   ]
  },
  {
   "cell_type": "code",
   "execution_count": 29,
   "id": "45bf3f68-0eaa-4e10-b74c-a06b2517197b",
   "metadata": {},
   "outputs": [],
   "source": [
    "def write_sub(filename: str, clean_data: list):\n",
    "    filename = filename.replace(\".srt\", \".txt\")\n",
    "    f = open(\"output//\" + filename, \"w\", encoding='utf-8')\n",
    "    for line in clean_data:\n",
    "        f.write(line)\n",
    "        f.write(\"\\n\")\n",
    "    f.close()"
   ]
  },
  {
   "cell_type": "code",
   "execution_count": 32,
   "id": "948dd099-4c97-44b8-b2c9-bae63ed3e974",
   "metadata": {},
   "outputs": [],
   "source": [
    "def main():\n",
    "    for filename, filepath in filepath_dict.items():\n",
    "        print(filename)\n",
    "        data = read_data(filepath = filepath)\n",
    "        clean_data = get_sub(data = data)\n",
    "        write_sub(filename=filename, clean_data=clean_data)\n",
    "        print(\"Done\")"
   ]
  },
  {
   "cell_type": "code",
   "execution_count": 33,
   "id": "e225f75c-c7ca-405b-bf9f-7cc787f1b66a",
   "metadata": {},
   "outputs": [
    {
     "name": "stdout",
     "output_type": "stream",
     "text": [
      "friends.s01e13.720p.bluray.x264--sujaidr.srt\n",
      "Done\n",
      "friends.s01e02.720p.bluray.x264--sujaidr.srt\n",
      "Done\n",
      "friends.s01e03.720p.bluray.x264--sujaidr.srt\n",
      "Done\n",
      "friends.s01e04.720p.bluray.x264--sujaidr.srt\n",
      "Done\n",
      "friends.s01e05.720p.bluray.x264--sujaidr.srt\n",
      "Done\n",
      "friends.s01e06.720p.bluray.x264--sujaidr.srt\n",
      "Done\n",
      "friends.s01e07.720p.bluray.x264--sujaidr.srt\n",
      "Done\n",
      "friends.s01e08.720p.bluray.x264--sujaidr.srt\n",
      "Done\n",
      "friends.s01e09.720p.bluray.x264--sujaidr.srt\n",
      "Done\n",
      "friends.s01e10.720p.bluray.x264-sujaidr.srt\n",
      "Done\n",
      "friends.s01e11.720p.bluray.x264--sujaidr.srt\n",
      "Done\n",
      "friends.s01e12.720p.bluray.x264--sujaidr.srt\n",
      "Done\n",
      "friends.s01e14.720p.bluray.x264--sujaidr.srt\n",
      "Done\n",
      "friends.s01e15.720p.bluray.x264--sujaidr.srt\n",
      "Done\n",
      "friends.s01e16.720p.bluray.x264--sujaidr.srt\n",
      "Done\n",
      "friends.s01e17.720p.bluray.x264--sujaidr.srt\n",
      "Done\n",
      "friends.s01e18.720p.bluray.x264--sujaidr.srt\n",
      "Done\n",
      "friends.s01e19.720p.bluray.x264--sujaidr.srt\n",
      "Done\n",
      "friends.s01e20.720p.bluray.x264--sujaidr.srt\n",
      "Done\n",
      "friends.s01e21.720p.bluray.x264--sujaidr.srt\n",
      "Done\n",
      "friends.s01e22.720p.bluray.x264--sujaidr.srt\n",
      "Done\n",
      "friends.s01e23.720p.bluray.x264--sujaidr.srt\n",
      "Done\n",
      "friends.s01e24.720p.bluray.x264--sujaidr.srt\n",
      "Done\n",
      "friends_s01e01_720p_bluray_x264-sujaidr.srt\n",
      "Done\n"
     ]
    }
   ],
   "source": [
    "main()"
   ]
  },
  {
   "cell_type": "code",
   "execution_count": null,
   "id": "09984e65-a9da-4faf-96e8-ba236fdb33f0",
   "metadata": {},
   "outputs": [],
   "source": []
  }
 ],
 "metadata": {
  "kernelspec": {
   "display_name": "Python 3 (ipykernel)",
   "language": "python",
   "name": "python3"
  },
  "language_info": {
   "codemirror_mode": {
    "name": "ipython",
    "version": 3
   },
   "file_extension": ".py",
   "mimetype": "text/x-python",
   "name": "python",
   "nbconvert_exporter": "python",
   "pygments_lexer": "ipython3",
   "version": "3.12.3"
  }
 },
 "nbformat": 4,
 "nbformat_minor": 5
}
